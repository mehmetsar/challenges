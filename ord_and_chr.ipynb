{
  "nbformat": 4,
  "nbformat_minor": 0,
  "metadata": {
    "colab": {
      "name": "ord_and_chr.ipynb",
      "provenance": [],
      "authorship_tag": "ABX9TyM2p1yrDaHYt24mfEK76kPY",
      "include_colab_link": true
    },
    "kernelspec": {
      "name": "python3",
      "display_name": "Python 3"
    },
    "language_info": {
      "name": "python"
    }
  },
  "cells": [
    {
      "cell_type": "markdown",
      "metadata": {
        "id": "view-in-github",
        "colab_type": "text"
      },
      "source": [
        "<a href=\"https://colab.research.google.com/github/mehmetsar/challenges/blob/main/ord_and_chr.ipynb\" target=\"_parent\"><img src=\"https://colab.research.google.com/assets/colab-badge.svg\" alt=\"Open In Colab\"/></a>"
      ]
    },
    {
      "cell_type": "code",
      "metadata": {
        "colab": {
          "base_uri": "https://localhost:8080/"
        },
        "id": "8bwwJm1q7GyS",
        "outputId": "98026e10-61f9-4f07-96e4-257f0f7dc688"
      },
      "source": [
        "liste=[111,113,124]\n",
        "asciletters=list(map(chr,liste)) #chr returns string  for a asci number \n",
        "print(asciletters)\n",
        "\n",
        "liste2=[\"a\",\"b\",\"c\"]\n",
        "ascinums=list(map(ord,liste2)) # ord returns a asci number of a string\n",
        "print(ascinums)\n"
      ],
      "execution_count": null,
      "outputs": [
        {
          "output_type": "stream",
          "text": [
            "['o', 'q', '|']\n",
            "[97, 98, 99]\n"
          ],
          "name": "stdout"
        },
        {
          "output_type": "execute_result",
          "data": {
            "text/plain": [
              "97"
            ]
          },
          "metadata": {
            "tags": []
          },
          "execution_count": 11
        }
      ]
    },
    {
      "cell_type": "code",
      "metadata": {
        "id": "DUSJoNIU9Mgg"
      },
      "source": [
        ""
      ],
      "execution_count": null,
      "outputs": []
    }
  ]
}