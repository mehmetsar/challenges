{
  "nbformat": 4,
  "nbformat_minor": 0,
  "metadata": {
    "colab": {
      "name": "exception handling.ipynb",
      "provenance": [],
      "authorship_tag": "ABX9TyNsWMTP+4eV5sQMXQsNjRXu",
      "include_colab_link": true
    },
    "kernelspec": {
      "name": "python3",
      "display_name": "Python 3"
    },
    "language_info": {
      "name": "python"
    }
  },
  "cells": [
    {
      "cell_type": "markdown",
      "metadata": {
        "id": "view-in-github",
        "colab_type": "text"
      },
      "source": [
        "<a href=\"https://colab.research.google.com/github/mehmetsar/challenges/blob/main/exception_handling.ipynb\" target=\"_parent\"><img src=\"https://colab.research.google.com/assets/colab-badge.svg\" alt=\"Open In Colab\"/></a>"
      ]
    },
    {
      "cell_type": "code",
      "metadata": {
        "colab": {
          "base_uri": "https://localhost:8080/"
        },
        "id": "-D7oA318F8di",
        "outputId": "5d305716-399b-4852-e906-650f6407d31c"
      },
      "source": [
        "fruits = [\"banana\", \"mango\", \"pear\", \"apple\", \"kiwi\", \"grape\"]\n",
        "\n",
        "\n",
        "while True:\n",
        "\n",
        " \n",
        "\n",
        "  try :\n",
        "    fav=fruits[int(input(\"enter your fav. fruit number:  \"))]\n",
        "    print(\"Your fav food is\", fav)\n",
        "    break\n",
        "  except IndexError :\n",
        "    print(\"yazılı meyveleri temsil eden bir değer giriniz\")  \n",
        "    break\n"
      ],
      "execution_count": 11,
      "outputs": [
        {
          "output_type": "stream",
          "text": [
            "enter your fav. fruit number:  15\n",
            "yazılı meyveleri temsil eden bir değer giriniz\n"
          ],
          "name": "stdout"
        }
      ]
    }
  ]
}