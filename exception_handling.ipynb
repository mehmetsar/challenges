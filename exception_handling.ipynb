{
  "nbformat": 4,
  "nbformat_minor": 0,
  "metadata": {
    "colab": {
      "name": "exception handling.ipynb",
      "provenance": [],
      "authorship_tag": "ABX9TyMMhKmyPShBAC+AUy6YUo9G",
      "include_colab_link": true
    },
    "kernelspec": {
      "name": "python3",
      "display_name": "Python 3"
    },
    "language_info": {
      "name": "python"
    }
  },
  "cells": [
    {
      "cell_type": "markdown",
      "metadata": {
        "id": "view-in-github",
        "colab_type": "text"
      },
      "source": [
        "<a href=\"https://colab.research.google.com/github/mehmetsar/challenges/blob/main/exception_handling.ipynb\" target=\"_parent\"><img src=\"https://colab.research.google.com/assets/colab-badge.svg\" alt=\"Open In Colab\"/></a>"
      ]
    },
    {
      "cell_type": "code",
      "metadata": {
        "colab": {
          "base_uri": "https://localhost:8080/"
        },
        "id": "-D7oA318F8di",
        "outputId": "310d5b3e-1216-45bf-f11d-2aecd966fafd"
      },
      "source": [
        "fruits = [\"banana\", \"mango\", \"pear\", \"apple\", \"kiwi\", \"grape\"]\n",
        "\n",
        "count=3\n",
        "while count>-1:\n",
        "\n",
        "  \n",
        "\n",
        "  try :\n",
        "    fav=fruits[int(input(\"enter your fav. fruit number:  \"))]\n",
        "    print(\"doğru değer girdiniz \" ,count,  \"hakkınız kaldı\")\n",
        "    \n",
        "    break\n",
        "  except IndexError :\n",
        "    print(\"yazılı meyveleri temsil eden bir değer giriniz.\", count, \"hakkınız kaldı\")  \n",
        "  except ValueError:\n",
        "    print(\"lütfen rakam giriniz \" , count, \"hakkınız kaldı\")\n",
        "  except:\n",
        "    print(\"doğru değer giriniz \", count,\"hakkınız kaldı\")  \n",
        "  count-=1"
      ],
      "execution_count": 16,
      "outputs": [
        {
          "output_type": "stream",
          "text": [
            "enter your fav. fruit number:  15\n",
            "yazılı meyveleri temsil eden bir değer giriniz. 3 hakkınız kaldı\n",
            "enter your fav. fruit number:  12\n",
            "yazılı meyveleri temsil eden bir değer giriniz. 2 hakkınız kaldı\n",
            "enter your fav. fruit number:  11\n",
            "yazılı meyveleri temsil eden bir değer giriniz. 1 hakkınız kaldı\n",
            "enter your fav. fruit number:  11\n",
            "yazılı meyveleri temsil eden bir değer giriniz. 0 hakkınız kaldı\n"
          ],
          "name": "stdout"
        }
      ]
    },
    {
      "cell_type": "code",
      "metadata": {
        "id": "ogZb2S5EQ2bU"
      },
      "source": [
        "hak = 3\n",
        "while hak > 0 :\n",
        "    try :\n",
        "        index = int(input(\"Favori meyve indexini girer misin? : \"))\n",
        "        print(\"Benim favori meyvem {}'dir.\".format(fruits[index]))\n",
        "    except IndexError :\n",
        "        hak -= 1\n",
        "        print(f\"Böyle bir index bulunmamaktadır. {hak} hakkınız kaldı. Lütfen doğru giriş yapınız.\")\n",
        "    except ValueError :\n",
        "        hak -= 1\n",
        "        print(f\"Integer yani numeric bir değer giriniz. {hak} hakkınız kaldı. Tekrar deneyin.\")\n",
        "    else:    \n",
        "        print(\"Tebrikler. Doğru giriş yaptınız.\")\n",
        "        break\n",
        "    finally:\n",
        "        print(\"Mevelerimiz her daim tazedir.\")"
      ],
      "execution_count": null,
      "outputs": []
    }
  ]
}