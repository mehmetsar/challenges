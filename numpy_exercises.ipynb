{
 "cells": [
  {
   "cell_type": "markdown",
   "id": "14c28344",
   "metadata": {},
   "source": [
    "import numpy as np"
   ]
  },
  {
   "cell_type": "code",
   "execution_count": 2,
   "id": "9e1c70ee",
   "metadata": {},
   "outputs": [],
   "source": [
    "import numpy as np"
   ]
  },
  {
   "cell_type": "code",
   "execution_count": 3,
   "id": "5aa8fcc0",
   "metadata": {},
   "outputs": [],
   "source": [
    "myarray=np.linspace(0,10,101) #0 ile 10 arasında eşit aralıklı 101 sayı üretiyor"
   ]
  },
  {
   "cell_type": "code",
   "execution_count": null,
   "id": "9d267866",
   "metadata": {},
   "outputs": [],
   "source": []
  },
  {
   "cell_type": "code",
   "execution_count": 4,
   "id": "5d0b63ac",
   "metadata": {},
   "outputs": [],
   "source": [
    "# a dice is rolled many times and results saved to an array that called dice_rolls.\n",
    "#how many integers in dice rolled greater than 2"
   ]
  },
  {
   "cell_type": "code",
   "execution_count": 5,
   "id": "b4564cf6",
   "metadata": {},
   "outputs": [],
   "source": [
    "dice_rolls = np.random.randint(1,7,1000)"
   ]
  },
  {
   "cell_type": "code",
   "execution_count": 6,
   "id": "e1eedd66",
   "metadata": {},
   "outputs": [],
   "source": [
    "total_rolls_over_2=len(dice_rolls[dice_rolls>2])"
   ]
  },
  {
   "cell_type": "code",
   "execution_count": 7,
   "id": "2749cbd1",
   "metadata": {},
   "outputs": [],
   "source": [
    "# NUMPY OPERATİONS"
   ]
  },
  {
   "cell_type": "code",
   "execution_count": 8,
   "id": "c633595b",
   "metadata": {},
   "outputs": [
    {
     "data": {
      "text/plain": [
       "array([0, 1, 2, 3, 4, 5, 6, 7, 8, 9])"
      ]
     },
     "execution_count": 8,
     "metadata": {},
     "output_type": "execute_result"
    }
   ],
   "source": [
    "arr=np.arange(0,10)\n",
    "arr"
   ]
  },
  {
   "cell_type": "code",
   "execution_count": 9,
   "id": "1adaba64",
   "metadata": {},
   "outputs": [
    {
     "data": {
      "text/plain": [
       "array([ 5,  6,  7,  8,  9, 10, 11, 12, 13, 14])"
      ]
     },
     "execution_count": 9,
     "metadata": {},
     "output_type": "execute_result"
    }
   ],
   "source": [
    "arr+5"
   ]
  },
  {
   "cell_type": "code",
   "execution_count": 10,
   "id": "66f1c6d9",
   "metadata": {},
   "outputs": [
    {
     "data": {
      "text/plain": [
       "45"
      ]
     },
     "execution_count": 10,
     "metadata": {},
     "output_type": "execute_result"
    }
   ],
   "source": [
    "arr.sum()"
   ]
  },
  {
   "cell_type": "raw",
   "id": "76a38c5c",
   "metadata": {},
   "source": []
  },
  {
   "cell_type": "code",
   "execution_count": 11,
   "id": "079673b2",
   "metadata": {},
   "outputs": [
    {
     "data": {
      "text/plain": [
       "2.8722813232690143"
      ]
     },
     "execution_count": 11,
     "metadata": {},
     "output_type": "execute_result"
    }
   ],
   "source": [
    "arr.std()"
   ]
  },
  {
   "cell_type": "code",
   "execution_count": 12,
   "id": "3e650ea2",
   "metadata": {},
   "outputs": [],
   "source": [
    "arr2d = np.arange(0,25).reshape(5,5)"
   ]
  },
  {
   "cell_type": "code",
   "execution_count": 13,
   "id": "0017c05d",
   "metadata": {},
   "outputs": [
    {
     "data": {
      "text/plain": [
       "300"
      ]
     },
     "execution_count": 13,
     "metadata": {},
     "output_type": "execute_result"
    }
   ],
   "source": [
    "arr2d.sum()"
   ]
  },
  {
   "cell_type": "code",
   "execution_count": 15,
   "id": "a799a019",
   "metadata": {},
   "outputs": [
    {
     "data": {
      "text/plain": [
       "array([50, 55, 60, 65, 70])"
      ]
     },
     "execution_count": 15,
     "metadata": {},
     "output_type": "execute_result"
    }
   ],
   "source": [
    "arr2d.sum(axis=0) # sum of rows"
   ]
  },
  {
   "cell_type": "code",
   "execution_count": 16,
   "id": "a6305965",
   "metadata": {},
   "outputs": [
    {
     "data": {
      "text/plain": [
       "array([ 10,  35,  60,  85, 110])"
      ]
     },
     "execution_count": 16,
     "metadata": {},
     "output_type": "execute_result"
    }
   ],
   "source": [
    "arr2d.sum(axis=1) # sum of columns"
   ]
  },
  {
   "cell_type": "code",
   "execution_count": null,
   "id": "493f6050",
   "metadata": {},
   "outputs": [],
   "source": []
  },
  {
   "cell_type": "code",
   "execution_count": 19,
   "id": "3fed95ec",
   "metadata": {},
   "outputs": [],
   "source": [
    "#create an array of 10 zeros\n",
    "arrzero = np.zeros(10)"
   ]
  },
  {
   "cell_type": "code",
   "execution_count": 20,
   "id": "2380a89d",
   "metadata": {},
   "outputs": [
    {
     "data": {
      "text/plain": [
       "array([0., 0., 0., 0., 0., 0., 0., 0., 0., 0.])"
      ]
     },
     "execution_count": 20,
     "metadata": {},
     "output_type": "execute_result"
    }
   ],
   "source": [
    "arrzero"
   ]
  },
  {
   "cell_type": "code",
   "execution_count": 21,
   "id": "992ea7ba",
   "metadata": {},
   "outputs": [],
   "source": [
    "#create an array of 10 fives\n",
    "arrfive=np.ones(10)*5"
   ]
  },
  {
   "cell_type": "code",
   "execution_count": 22,
   "id": "22aee7d7",
   "metadata": {},
   "outputs": [
    {
     "data": {
      "text/plain": [
       "array([5., 5., 5., 5., 5., 5., 5., 5., 5., 5.])"
      ]
     },
     "execution_count": 22,
     "metadata": {},
     "output_type": "execute_result"
    }
   ],
   "source": [
    "arrfive"
   ]
  },
  {
   "cell_type": "code",
   "execution_count": 23,
   "id": "6916c9c1",
   "metadata": {},
   "outputs": [
    {
     "data": {
      "text/plain": [
       "array([10, 12, 14, 16, 18, 20, 22, 24, 26, 28, 30, 32, 34, 36, 38, 40, 42,\n",
       "       44, 46, 48, 50])"
      ]
     },
     "execution_count": 23,
     "metadata": {},
     "output_type": "execute_result"
    }
   ],
   "source": [
    "#create an array of all the even integers from 10 to 50\n",
    "arreven = np.arange(10,51,2)\n",
    "arreven"
   ]
  },
  {
   "cell_type": "code",
   "execution_count": 24,
   "id": "7dd165e3",
   "metadata": {},
   "outputs": [
    {
     "data": {
      "text/plain": [
       "array([0.31550603])"
      ]
     },
     "execution_count": 24,
     "metadata": {},
     "output_type": "execute_result"
    }
   ],
   "source": [
    "#generate a random number between 0 and 1\n",
    "np.random.rand(1)"
   ]
  },
  {
   "cell_type": "code",
   "execution_count": 25,
   "id": "3389b484",
   "metadata": {},
   "outputs": [
    {
     "data": {
      "text/plain": [
       "array([ 0.78418541,  0.78500745,  1.93760839,  0.94721427,  0.85193644,\n",
       "        0.36040023, -0.14277957, -0.4936257 , -1.18127747, -0.19453924,\n",
       "        0.68600718, -1.26016772, -0.3432674 ,  0.49380963, -1.02313975,\n",
       "        0.72355114,  0.25612054,  1.03897623, -0.48491228,  0.99399808,\n",
       "       -2.02415519,  0.7314455 , -1.8470257 , -0.45348715, -0.11986146])"
      ]
     },
     "execution_count": 25,
     "metadata": {},
     "output_type": "execute_result"
    }
   ],
   "source": [
    "#generate a 25 random number sampled from a std normal dist.\n",
    "np.random.randn(25)"
   ]
  },
  {
   "cell_type": "code",
   "execution_count": null,
   "id": "844b9531",
   "metadata": {},
   "outputs": [],
   "source": []
  }
 ],
 "metadata": {
  "kernelspec": {
   "display_name": "Python 3",
   "language": "python",
   "name": "python3"
  },
  "language_info": {
   "codemirror_mode": {
    "name": "ipython",
    "version": 3
   },
   "file_extension": ".py",
   "mimetype": "text/x-python",
   "name": "python",
   "nbconvert_exporter": "python",
   "pygments_lexer": "ipython3",
   "version": "3.8.8"
  }
 },
 "nbformat": 4,
 "nbformat_minor": 5
}
