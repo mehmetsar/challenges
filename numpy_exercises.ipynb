{
 "cells": [
  {
   "cell_type": "markdown",
   "id": "8f732fb2",
   "metadata": {},
   "source": [
    "import numpy as np"
   ]
  },
  {
   "cell_type": "code",
   "execution_count": 1,
   "id": "d426ac6f",
   "metadata": {},
   "outputs": [],
   "source": [
    "import numpy as np"
   ]
  },
  {
   "cell_type": "code",
   "execution_count": 3,
   "id": "afe695ac",
   "metadata": {},
   "outputs": [],
   "source": [
    "myarray=np.linspace(0,10,101) #0 ile 10 arasında eşit aralıklı 101 sayı üretiyor"
   ]
  },
  {
   "cell_type": "code",
   "execution_count": null,
   "id": "81b2cf40",
   "metadata": {},
   "outputs": [],
   "source": []
  },
  {
   "cell_type": "code",
   "execution_count": null,
   "id": "d4cfd598",
   "metadata": {},
   "outputs": [],
   "source": [
    "# a dice is rolled many times and results saved to an array that called dice_rolls.\n",
    "#how many integers in dice rolled greater than 2"
   ]
  },
  {
   "cell_type": "code",
   "execution_count": 8,
   "id": "59a79175",
   "metadata": {},
   "outputs": [],
   "source": [
    "dice_rolls = np.random.randint(1,7,1000)"
   ]
  },
  {
   "cell_type": "code",
   "execution_count": 11,
   "id": "8b3af9fb",
   "metadata": {},
   "outputs": [],
   "source": [
    "total_rolls_over_2=len(dice_rolls[dice_rolls>2])"
   ]
  },
  {
   "cell_type": "code",
   "execution_count": null,
   "id": "68ffa470",
   "metadata": {},
   "outputs": [],
   "source": []
  },
  {
   "cell_type": "code",
   "execution_count": null,
   "id": "a445ef7d",
   "metadata": {},
   "outputs": [],
   "source": []
  }
 ],
 "metadata": {
  "kernelspec": {
   "display_name": "Python 3",
   "language": "python",
   "name": "python3"
  },
  "language_info": {
   "codemirror_mode": {
    "name": "ipython",
    "version": 3
   },
   "file_extension": ".py",
   "mimetype": "text/x-python",
   "name": "python",
   "nbconvert_exporter": "python",
   "pygments_lexer": "ipython3",
   "version": "3.8.8"
  }
 },
 "nbformat": 4,
 "nbformat_minor": 5
}
