{
  "nbformat": 4,
  "nbformat_minor": 0,
  "metadata": {
    "colab": {
      "name": "Missingletter.ipynb",
      "provenance": [],
      "collapsed_sections": [],
      "authorship_tag": "ABX9TyM3bWBRrq5NU3uitKzPlqxa",
      "include_colab_link": true
    },
    "kernelspec": {
      "name": "python3",
      "display_name": "Python 3"
    },
    "language_info": {
      "name": "python"
    }
  },
  "cells": [
    {
      "cell_type": "markdown",
      "metadata": {
        "id": "view-in-github",
        "colab_type": "text"
      },
      "source": [
        "<a href=\"https://colab.research.google.com/github/mehmetsar/challenges/blob/main/Missingletter.ipynb\" target=\"_parent\"><img src=\"https://colab.research.google.com/assets/colab-badge.svg\" alt=\"Open In Colab\"/></a>"
      ]
    },
    {
      "cell_type": "code",
      "metadata": {
        "id": "X15JLNPjBYnJ"
      },
      "source": [
        "\n",
        "dicta={}\n",
        "for i in range(97,123):\n",
        "  dicta[chr(i)]=i\n",
        "\n",
        "listb=[\"h\",\"d\",\"a\",\"x\",\"f\",\"c\",\"e\"]\n",
        "count=97\n",
        "newlist_maxnum=[]\n",
        "for i in listb:\n",
        "  newlist_maxnum.append(dicta[i])\n",
        "\n",
        "ranger=max(newlist_maxnum)\n",
        "print(ranger)\n",
        "\n",
        "for i in dicta:\n",
        "  if dicta[i]<ranger and i not in listb:\n",
        "    print(i,\" is the missing letter\")\n",
        "    \n",
        "\n",
        "\n",
        "\n"
      ],
      "execution_count": null,
      "outputs": []
    }
  ]
}