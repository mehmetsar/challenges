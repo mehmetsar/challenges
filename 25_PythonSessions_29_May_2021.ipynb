{
  "nbformat": 4,
  "nbformat_minor": 0,
  "metadata": {
    "kernelspec": {
      "display_name": "Python 3",
      "language": "python",
      "name": "python3"
    },
    "language_info": {
      "codemirror_mode": {
        "name": "ipython",
        "version": 3
      },
      "file_extension": ".py",
      "mimetype": "text/x-python",
      "name": "python",
      "nbconvert_exporter": "python",
      "pygments_lexer": "ipython3",
      "version": "3.7.3"
    },
    "colab": {
      "name": "25_PythonSessions-29-May-2021.ipynb",
      "provenance": [],
      "include_colab_link": true
    }
  },
  "cells": [
    {
      "cell_type": "markdown",
      "metadata": {
        "id": "view-in-github",
        "colab_type": "text"
      },
      "source": [
        "<a href=\"https://colab.research.google.com/github/mehmetsar/challenges/blob/main/25_PythonSessions_29_May_2021.ipynb\" target=\"_parent\"><img src=\"https://colab.research.google.com/assets/colab-badge.svg\" alt=\"Open In Colab\"/></a>"
      ]
    },
    {
      "cell_type": "markdown",
      "metadata": {
        "id": "Rzyu6Qws1qLX"
      },
      "source": [
        "<img src=\"https://docs.google.com/uc?id=14xeXxFrVRjvOoUYWn_GuyE-v84wVzrqr\" class=\"img-fluid\" alt=\"CLRWY\" width=\"400\" height=\"200\">"
      ]
    },
    {
      "cell_type": "markdown",
      "metadata": {
        "id": "nYgoq8AD1qLe"
      },
      "source": [
        "<h1><p style=\"text-align: center; color:darkblue\">Python In-Class, <br>29 May 2021</p><h1>"
      ]
    },
    {
      "cell_type": "markdown",
      "metadata": {
        "id": "uvZLXi0S1qLg"
      },
      "source": [
        "### Quesiton - given a list `[1,2,3]` get an all possible output permutation of these numbers in a list."
      ]
    },
    {
      "cell_type": "markdown",
      "metadata": {
        "id": "AtYDHh6Z1qLh"
      },
      "source": [
        "Example:\n",
        "\n",
        "Input: ``[1,2,3]``\n",
        "\n",
        "Output:\n",
        "```\n",
        "[\n",
        "  [1,2,3],\n",
        "  [1,3,2],\n",
        "  [2,1,3],\n",
        "  [2,3,1],\n",
        "  [3,1,2],\n",
        "  [3,2,1]\n",
        "]```"
      ]
    },
    {
      "cell_type": "code",
      "metadata": {
        "id": "nHP1Yz7q1qLj"
      },
      "source": [
        "solution = [[]]"
      ],
      "execution_count": null,
      "outputs": []
    },
    {
      "cell_type": "markdown",
      "metadata": {
        "id": "1Qt_XDWs1qLl"
      },
      "source": [
        "### Kalem kağıt kullarak yapılması öngörülen iterasyon çalışması"
      ]
    },
    {
      "cell_type": "code",
      "metadata": {
        "id": "Os80qZXh1qLm"
      },
      "source": [
        "# solution-1 = [[1], [2], [3]]\n",
        "# solution-2 = [[1,2], [1,3], [2,1], [2,3], [3,1], [3,2]]\n",
        "# solution-3 = [[1,2,3], [1,3,2], [2,1,3], [2,3,1], [3,1,2], [3,2,1]]"
      ],
      "execution_count": null,
      "outputs": []
    },
    {
      "cell_type": "code",
      "metadata": {
        "id": "t70SR5fj1qLm",
        "outputId": "3e4884e0-ab26-4a3e-8015-9ad2caf7c69e"
      },
      "source": [
        "for i in [[]] :\n",
        "    print(i)"
      ],
      "execution_count": null,
      "outputs": [
        {
          "output_type": "stream",
          "text": [
            "[]\n"
          ],
          "name": "stdout"
        }
      ]
    },
    {
      "cell_type": "code",
      "metadata": {
        "id": "qh7EL3d01qLq"
      },
      "source": [
        "num = [1,2,3]"
      ],
      "execution_count": null,
      "outputs": []
    },
    {
      "cell_type": "code",
      "metadata": {
        "id": "uNOcRYs51qLr",
        "outputId": "f06bfdea-756f-4a52-f9d8-5305977cc10b"
      },
      "source": [
        "num_set = set(num)\n",
        "num_set"
      ],
      "execution_count": null,
      "outputs": [
        {
          "output_type": "execute_result",
          "data": {
            "text/plain": [
              "{1, 2, 3}"
            ]
          },
          "metadata": {
            "tags": []
          },
          "execution_count": 6
        }
      ]
    },
    {
      "cell_type": "code",
      "metadata": {
        "id": "i0HG6OOe1qLt",
        "outputId": "a0a524a7-5779-48a2-ad7c-fb83ee39ce91"
      },
      "source": [
        "set_bos_list = set([])\n",
        "set_bos_list"
      ],
      "execution_count": null,
      "outputs": [
        {
          "output_type": "execute_result",
          "data": {
            "text/plain": [
              "set()"
            ]
          },
          "metadata": {
            "tags": []
          },
          "execution_count": 7
        }
      ]
    },
    {
      "cell_type": "code",
      "metadata": {
        "id": "NuF45uEQ1qLu",
        "outputId": "d0293b6f-ddc7-47b7-e86b-5d1c40349367"
      },
      "source": [
        "num_set - set_bos_list"
      ],
      "execution_count": null,
      "outputs": [
        {
          "output_type": "execute_result",
          "data": {
            "text/plain": [
              "{1, 2, 3}"
            ]
          },
          "metadata": {
            "tags": []
          },
          "execution_count": 8
        }
      ]
    },
    {
      "cell_type": "code",
      "metadata": {
        "id": "aPsbtuSD1qLv",
        "outputId": "95cd784a-7915-4adb-bb02-65133ef6e38e"
      },
      "source": [
        "num_set - set([1])"
      ],
      "execution_count": null,
      "outputs": [
        {
          "output_type": "execute_result",
          "data": {
            "text/plain": [
              "{2, 3}"
            ]
          },
          "metadata": {
            "tags": []
          },
          "execution_count": 9
        }
      ]
    },
    {
      "cell_type": "code",
      "metadata": {
        "id": "KphwJGX_1qLw",
        "outputId": "f56aff96-d3e2-4c68-9045-1b648c7e892b"
      },
      "source": [
        "num_set - set([2])"
      ],
      "execution_count": null,
      "outputs": [
        {
          "output_type": "execute_result",
          "data": {
            "text/plain": [
              "{1, 3}"
            ]
          },
          "metadata": {
            "tags": []
          },
          "execution_count": 10
        }
      ]
    },
    {
      "cell_type": "code",
      "metadata": {
        "id": "xnvmf1Wd1qLy",
        "outputId": "b2761fb2-3b54-47ea-eaa3-c80e45fbda96"
      },
      "source": [
        "num_set - set([2,1])"
      ],
      "execution_count": null,
      "outputs": [
        {
          "output_type": "execute_result",
          "data": {
            "text/plain": [
              "{3}"
            ]
          },
          "metadata": {
            "tags": []
          },
          "execution_count": 11
        }
      ]
    },
    {
      "cell_type": "code",
      "metadata": {
        "id": "tFDh0deV1qLz",
        "outputId": "985f06fd-ffd4-4320-8d55-0ef564e4c0ee"
      },
      "source": [
        "[1] + [2,3]"
      ],
      "execution_count": null,
      "outputs": [
        {
          "output_type": "execute_result",
          "data": {
            "text/plain": [
              "[1, 2, 3]"
            ]
          },
          "metadata": {
            "tags": []
          },
          "execution_count": 13
        }
      ]
    },
    {
      "cell_type": "code",
      "metadata": {
        "id": "xTGEDM7L1qL1",
        "outputId": "f15af11c-520f-485f-b91b-ac4b36308d6d"
      },
      "source": [
        "[] + [2]"
      ],
      "execution_count": null,
      "outputs": [
        {
          "output_type": "execute_result",
          "data": {
            "text/plain": [
              "[2]"
            ]
          },
          "metadata": {
            "tags": []
          },
          "execution_count": 14
        }
      ]
    },
    {
      "cell_type": "code",
      "metadata": {
        "id": "kxkGR2CG1qL3",
        "outputId": "ee9f4491-16e9-4d49-84ac-066fa84450c6"
      },
      "source": [
        "[1] + [2]"
      ],
      "execution_count": null,
      "outputs": [
        {
          "output_type": "execute_result",
          "data": {
            "text/plain": [
              "[1, 2]"
            ]
          },
          "metadata": {
            "tags": []
          },
          "execution_count": 15
        }
      ]
    },
    {
      "cell_type": "code",
      "metadata": {
        "id": "9fhXRV7r1qL4",
        "outputId": "80ff0acd-fcfa-4524-82f4-0218a47e9d00"
      },
      "source": [
        "num_set - set([1] + [2])"
      ],
      "execution_count": null,
      "outputs": [
        {
          "output_type": "execute_result",
          "data": {
            "text/plain": [
              "{3}"
            ]
          },
          "metadata": {
            "tags": []
          },
          "execution_count": 16
        }
      ]
    },
    {
      "cell_type": "code",
      "metadata": {
        "id": "fK95iqr81qL6",
        "outputId": "1b6109d9-8ae5-4a0c-f65d-62f51d2b9825"
      },
      "source": [
        "[1,2] + [3]"
      ],
      "execution_count": null,
      "outputs": [
        {
          "output_type": "execute_result",
          "data": {
            "text/plain": [
              "[1, 2, 3]"
            ]
          },
          "metadata": {
            "tags": []
          },
          "execution_count": 17
        }
      ]
    },
    {
      "cell_type": "code",
      "metadata": {
        "id": "W318suVI1qL7"
      },
      "source": [
        "solution = [[]]"
      ],
      "execution_count": null,
      "outputs": []
    },
    {
      "cell_type": "code",
      "metadata": {
        "id": "Pbmd4BQP1qL7"
      },
      "source": [
        "num_set = set(num)"
      ],
      "execution_count": null,
      "outputs": []
    },
    {
      "cell_type": "code",
      "metadata": {
        "id": "c0za8yMz1qL8"
      },
      "source": [
        "num = [1,2,3]"
      ],
      "execution_count": null,
      "outputs": []
    },
    {
      "cell_type": "code",
      "metadata": {
        "id": "k8aEpgiy1qL9"
      },
      "source": [
        "# solution-1 = [[1], [2], [3]]\n",
        "# solution-2 = [[1,2], [1,3], [2,1], [2,3], [3,1], [3,2]]\n",
        "# solution-3 = [[1,2,3], [1,3,2], [2,1,3], [2,3,1], [3,1,2], [3,2,1]]"
      ],
      "execution_count": null,
      "outputs": []
    },
    {
      "cell_type": "code",
      "metadata": {
        "id": "U6Nftqdg1qL-",
        "outputId": "22104b12-4d76-4882-a34b-45b3c60352ee"
      },
      "source": [
        "for index in range(len(num)) :\n",
        "    solution = [i + [j] for i in solution for j in num_set.difference(set(i))]\n",
        "    print(solution)\n",
        "solution"
      ],
      "execution_count": null,
      "outputs": [
        {
          "output_type": "stream",
          "text": [
            "[[1], [2], [3]]\n",
            "[[1, 2], [1, 3], [2, 1], [2, 3], [3, 1], [3, 2]]\n",
            "[[1, 2, 3], [1, 3, 2], [2, 1, 3], [2, 3, 1], [3, 1, 2], [3, 2, 1]]\n"
          ],
          "name": "stdout"
        },
        {
          "output_type": "execute_result",
          "data": {
            "text/plain": [
              "[[1, 2, 3], [1, 3, 2], [2, 1, 3], [2, 3, 1], [3, 1, 2], [3, 2, 1]]"
            ]
          },
          "metadata": {
            "tags": []
          },
          "execution_count": 38
        }
      ]
    },
    {
      "cell_type": "code",
      "metadata": {
        "id": "aKbaCTT_1qMB",
        "outputId": "6cb32192-9a86-47c5-ec05-99bcc0f02814"
      },
      "source": [
        "for i in range(3) :\n",
        "    print(\"bugün ayrılık günü\")"
      ],
      "execution_count": null,
      "outputs": [
        {
          "output_type": "stream",
          "text": [
            "bugün ayrılık günü\n",
            "bugün ayrılık günü\n",
            "bugün ayrılık günü\n"
          ],
          "name": "stdout"
        }
      ]
    },
    {
      "cell_type": "code",
      "metadata": {
        "id": "ch7Yjbtx1qMC",
        "outputId": "3aee4341-9dcd-408f-c850-031dc5cc16ce"
      },
      "source": [
        "x = []\n",
        "for i in range(3) :\n",
        "    for j in range(4) :\n",
        "        x.append(j+i)\n",
        "x"
      ],
      "execution_count": null,
      "outputs": [
        {
          "output_type": "execute_result",
          "data": {
            "text/plain": [
              "[0, 1, 2, 3, 1, 2, 3, 4, 2, 3, 4, 5]"
            ]
          },
          "metadata": {
            "tags": []
          },
          "execution_count": 23
        }
      ]
    },
    {
      "cell_type": "code",
      "metadata": {
        "id": "ltnTyomI1qMD",
        "outputId": "6b7ba34d-6c45-41f5-b889-cf76a1187cb6"
      },
      "source": [
        "[j+i for i in range(3) for j in range(4)]"
      ],
      "execution_count": null,
      "outputs": [
        {
          "output_type": "execute_result",
          "data": {
            "text/plain": [
              "[0, 1, 2, 3, 1, 2, 3, 4, 2, 3, 4, 5]"
            ]
          },
          "metadata": {
            "tags": []
          },
          "execution_count": 25
        }
      ]
    },
    {
      "cell_type": "code",
      "metadata": {
        "id": "mZcvCLKd1qMF"
      },
      "source": [
        "def equal(a, b, c):\n",
        "    numbers = [a, b, c]\n",
        "    res = numbers.count(max(numbers, key=numbers.count))\n",
        "    if res > 1 :\n",
        "        return res\n",
        "    else:\n",
        "        return 0"
      ],
      "execution_count": null,
      "outputs": []
    },
    {
      "cell_type": "code",
      "metadata": {
        "id": "9D6vlRPt1qMG",
        "outputId": "d5e6db23-a29b-4e0d-8958-070e61370311"
      },
      "source": [
        "equal(1,2,3)"
      ],
      "execution_count": null,
      "outputs": [
        {
          "output_type": "execute_result",
          "data": {
            "text/plain": [
              "0"
            ]
          },
          "metadata": {
            "tags": []
          },
          "execution_count": 44
        }
      ]
    },
    {
      "cell_type": "code",
      "metadata": {
        "id": "5S8M9Jtb1qMH"
      },
      "source": [
        "equall = lambda x,y,z : [x,y,z].count(max([x,y,z], key = [x,y,z].count)) \\\n",
        "         if [x,y,z].count(max([x,y,z], key = [x,y,z].count))>1 else 0"
      ],
      "execution_count": null,
      "outputs": []
    },
    {
      "cell_type": "code",
      "metadata": {
        "id": "i2ebvbl61qMH",
        "outputId": "61f1c8a4-a90c-410e-f139-c9cf926f291c"
      },
      "source": [
        "equall(1,2,3)"
      ],
      "execution_count": null,
      "outputs": [
        {
          "output_type": "execute_result",
          "data": {
            "text/plain": [
              "0"
            ]
          },
          "metadata": {
            "tags": []
          },
          "execution_count": 51
        }
      ]
    },
    {
      "cell_type": "markdown",
      "metadata": {
        "id": "Ji_mCUNo1qMI"
      },
      "source": [
        "```python\n",
        "if_body if condition else else_body\n",
        "```"
      ]
    },
    {
      "cell_type": "markdown",
      "metadata": {
        "id": "GxPWICd51qMJ"
      },
      "source": [
        "```python\n",
        "(lambda parametre : statements)(arguments)\n",
        "```"
      ]
    },
    {
      "cell_type": "code",
      "metadata": {
        "id": "dCVXdG6O1qMJ"
      },
      "source": [
        "bb = lambda *x :  list(x).count(max(list(x), key = list(x).count)) \\\n",
        "         if list(x).count(max(list(x), key = list(x).count))>1 else 0"
      ],
      "execution_count": null,
      "outputs": []
    },
    {
      "cell_type": "code",
      "metadata": {
        "id": "4KHvGyjI1qMK",
        "outputId": "704aec67-d8d5-4613-d058-8724ad861b13"
      },
      "source": [
        "bb(1,1,1,2,3,4)"
      ],
      "execution_count": null,
      "outputs": [
        {
          "output_type": "execute_result",
          "data": {
            "text/plain": [
              "3"
            ]
          },
          "metadata": {
            "tags": []
          },
          "execution_count": 53
        }
      ]
    },
    {
      "cell_type": "code",
      "metadata": {
        "id": "1Ds2nmze1qML"
      },
      "source": [
        ""
      ],
      "execution_count": null,
      "outputs": []
    },
    {
      "cell_type": "code",
      "metadata": {
        "id": "oV4oQZTk1qMM"
      },
      "source": [
        ""
      ],
      "execution_count": null,
      "outputs": []
    }
  ]
}