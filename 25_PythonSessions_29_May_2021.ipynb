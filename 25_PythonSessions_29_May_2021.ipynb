{
  "nbformat": 4,
  "nbformat_minor": 0,
  "metadata": {
    "kernelspec": {
      "display_name": "Python 3",
      "language": "python",
      "name": "python3"
    },
    "language_info": {
      "codemirror_mode": {
        "name": "ipython",
        "version": 3
      },
      "file_extension": ".py",
      "mimetype": "text/x-python",
      "name": "python",
      "nbconvert_exporter": "python",
      "pygments_lexer": "ipython3",
      "version": "3.7.3"
    },
    "colab": {
      "name": "25_PythonSessions-29-May-2021.ipynb",
      "provenance": [],
      "collapsed_sections": [],
      "include_colab_link": true
    }
  },
  "cells": [
    {
      "cell_type": "markdown",
      "metadata": {
        "id": "view-in-github",
        "colab_type": "text"
      },
      "source": [
        "<a href=\"https://colab.research.google.com/github/mehmetsar/challenges/blob/main/25_PythonSessions_29_May_2021.ipynb\" target=\"_parent\"><img src=\"https://colab.research.google.com/assets/colab-badge.svg\" alt=\"Open In Colab\"/></a>"
      ]
    },
    {
      "cell_type": "markdown",
      "metadata": {
        "id": "wYeZYlqX_WY_"
      },
      "source": [
        "<img src=\"https://docs.google.com/uc?id=14xeXxFrVRjvOoUYWn_GuyE-v84wVzrqr\" class=\"img-fluid\" alt=\"CLRWY\" width=\"400\" height=\"200\">"
      ]
    },
    {
      "cell_type": "markdown",
      "metadata": {
        "id": "dsu2sMQ6_WZg"
      },
      "source": [
        "<h1><p style=\"text-align: center; color:darkblue\">Python In-Class, <br>29 May 2021</p><h1>"
      ]
    },
    {
      "cell_type": "markdown",
      "metadata": {
        "id": "PesLxPQd_WZj"
      },
      "source": [
        "### Quesiton - given a list `[1,2,3]` get an all possible output permutation of these numbers in a list."
      ]
    },
    {
      "cell_type": "markdown",
      "metadata": {
        "id": "J43fIrOQ_WZl"
      },
      "source": [
        "Example:\n",
        "\n",
        "Input: ``[1,2,3]``\n",
        "\n",
        "Output:\n",
        "```\n",
        "[\n",
        "  [1,2,3],\n",
        "  [1,3,2],\n",
        "  [2,1,3],\n",
        "  [2,3,1],\n",
        "  [3,1,2],\n",
        "  [3,2,1]\n",
        "]```"
      ]
    },
    {
      "cell_type": "code",
      "metadata": {
        "id": "gei5WWlD_WZn"
      },
      "source": [
        "solution = [[]]"
      ],
      "execution_count": null,
      "outputs": []
    },
    {
      "cell_type": "markdown",
      "metadata": {
        "id": "LsrPYD7z_WZr"
      },
      "source": [
        "### Kalem kağıt kullarak yapılması öngörülen iterasyon çalışması"
      ]
    },
    {
      "cell_type": "code",
      "metadata": {
        "id": "PCQNhgJO_WZt"
      },
      "source": [
        "# solution-1 = [[1], [2], [3]]\n",
        "# solution-2 = [[1,2], [1,3], [2,1], [2,3], [3,1], [3,2]]\n",
        "# solution-3 = [[1,2,3], [1,3,2], [2,1,3], [2,3,1], [3,1,2], [3,2,1]]"
      ],
      "execution_count": null,
      "outputs": []
    },
    {
      "cell_type": "code",
      "metadata": {
        "id": "4vzu8bA0_WZy",
        "outputId": "219f7fc5-ea4d-48d1-8ea6-335279f238a0"
      },
      "source": [
        "for i in [[]] :\n",
        "    print(i)"
      ],
      "execution_count": null,
      "outputs": [
        {
          "output_type": "stream",
          "text": [
            "[]\n"
          ],
          "name": "stdout"
        }
      ]
    },
    {
      "cell_type": "code",
      "metadata": {
        "id": "vc9EdPfy_WZ1"
      },
      "source": [
        "num = [1,2,3]"
      ],
      "execution_count": null,
      "outputs": []
    },
    {
      "cell_type": "code",
      "metadata": {
        "id": "amkkoU2e_WZ2",
        "outputId": "059a26f2-2237-4b91-b54e-c3153e229069"
      },
      "source": [
        "num_set = set(num)\n",
        "num_set"
      ],
      "execution_count": null,
      "outputs": [
        {
          "output_type": "execute_result",
          "data": {
            "text/plain": [
              "{1, 2, 3}"
            ]
          },
          "metadata": {
            "tags": []
          },
          "execution_count": 6
        }
      ]
    },
    {
      "cell_type": "code",
      "metadata": {
        "id": "8DNoJXLW_WZ6",
        "outputId": "ee5ebfed-100f-4460-d3fb-e8278d3e69b1"
      },
      "source": [
        "set_bos_list = set([])\n",
        "set_bos_list"
      ],
      "execution_count": null,
      "outputs": [
        {
          "output_type": "execute_result",
          "data": {
            "text/plain": [
              "set()"
            ]
          },
          "metadata": {
            "tags": []
          },
          "execution_count": 7
        }
      ]
    },
    {
      "cell_type": "code",
      "metadata": {
        "id": "JETuMLI0_WZ8",
        "outputId": "9b1e9240-539c-4cc3-f5fe-bbcd7382a3fc"
      },
      "source": [
        "num_set - set_bos_list"
      ],
      "execution_count": null,
      "outputs": [
        {
          "output_type": "execute_result",
          "data": {
            "text/plain": [
              "{1, 2, 3}"
            ]
          },
          "metadata": {
            "tags": []
          },
          "execution_count": 8
        }
      ]
    },
    {
      "cell_type": "code",
      "metadata": {
        "id": "GZe5ixF4_WZ-",
        "outputId": "d4a0c19d-62ac-492e-d92a-9f83c8224387"
      },
      "source": [
        "num_set - set([1])"
      ],
      "execution_count": null,
      "outputs": [
        {
          "output_type": "execute_result",
          "data": {
            "text/plain": [
              "{2, 3}"
            ]
          },
          "metadata": {
            "tags": []
          },
          "execution_count": 9
        }
      ]
    },
    {
      "cell_type": "code",
      "metadata": {
        "id": "zpAIw8Ro_WaB",
        "outputId": "44a53f3e-abf5-447d-f6f7-a7d1d8b116cf"
      },
      "source": [
        "num_set - set([2])"
      ],
      "execution_count": null,
      "outputs": [
        {
          "output_type": "execute_result",
          "data": {
            "text/plain": [
              "{1, 3}"
            ]
          },
          "metadata": {
            "tags": []
          },
          "execution_count": 10
        }
      ]
    },
    {
      "cell_type": "code",
      "metadata": {
        "id": "Z_-qS7oE_WaC",
        "outputId": "122f3910-a893-4f3b-9216-0e9c9d71e41c"
      },
      "source": [
        "num_set - set([2,1])"
      ],
      "execution_count": null,
      "outputs": [
        {
          "output_type": "execute_result",
          "data": {
            "text/plain": [
              "{3}"
            ]
          },
          "metadata": {
            "tags": []
          },
          "execution_count": 11
        }
      ]
    },
    {
      "cell_type": "code",
      "metadata": {
        "id": "MCVGcwjz_WaE",
        "outputId": "9c2eadab-55c2-432c-c11f-ac2773c7148e"
      },
      "source": [
        "[1] + [2,3]"
      ],
      "execution_count": null,
      "outputs": [
        {
          "output_type": "execute_result",
          "data": {
            "text/plain": [
              "[1, 2, 3]"
            ]
          },
          "metadata": {
            "tags": []
          },
          "execution_count": 13
        }
      ]
    },
    {
      "cell_type": "code",
      "metadata": {
        "id": "0kGOPGII_WaF",
        "outputId": "1a917ea6-0f03-4151-c593-c71d0efe215b"
      },
      "source": [
        "[] + [2]"
      ],
      "execution_count": null,
      "outputs": [
        {
          "output_type": "execute_result",
          "data": {
            "text/plain": [
              "[2]"
            ]
          },
          "metadata": {
            "tags": []
          },
          "execution_count": 14
        }
      ]
    },
    {
      "cell_type": "code",
      "metadata": {
        "id": "msaWZLk-_WaG",
        "outputId": "6a38d0ee-9a9a-4bd8-e0b4-a7e10a44b6a3"
      },
      "source": [
        "[1] + [2]"
      ],
      "execution_count": null,
      "outputs": [
        {
          "output_type": "execute_result",
          "data": {
            "text/plain": [
              "[1, 2]"
            ]
          },
          "metadata": {
            "tags": []
          },
          "execution_count": 15
        }
      ]
    },
    {
      "cell_type": "code",
      "metadata": {
        "id": "lo0igubp_WaI",
        "outputId": "6c8554c8-f7cf-4cce-aa43-c913b9470c56"
      },
      "source": [
        "num_set - set([1] + [2])"
      ],
      "execution_count": null,
      "outputs": [
        {
          "output_type": "execute_result",
          "data": {
            "text/plain": [
              "{3}"
            ]
          },
          "metadata": {
            "tags": []
          },
          "execution_count": 16
        }
      ]
    },
    {
      "cell_type": "code",
      "metadata": {
        "id": "BLquDQay_Was",
        "outputId": "1d2e8c85-940b-431b-d8b8-b68f6e4634f6"
      },
      "source": [
        "[1,2] + [3]"
      ],
      "execution_count": null,
      "outputs": [
        {
          "output_type": "execute_result",
          "data": {
            "text/plain": [
              "[1, 2, 3]"
            ]
          },
          "metadata": {
            "tags": []
          },
          "execution_count": 17
        }
      ]
    },
    {
      "cell_type": "code",
      "metadata": {
        "id": "ZQaTZXW6_Wat"
      },
      "source": [
        "solution = [[]]"
      ],
      "execution_count": null,
      "outputs": []
    },
    {
      "cell_type": "code",
      "metadata": {
        "id": "A_t4K_N1_Wau"
      },
      "source": [
        "num_set = set(num)"
      ],
      "execution_count": null,
      "outputs": []
    },
    {
      "cell_type": "code",
      "metadata": {
        "id": "B4v-pwxA_Waz"
      },
      "source": [
        "num = [1,2,3]"
      ],
      "execution_count": null,
      "outputs": []
    },
    {
      "cell_type": "code",
      "metadata": {
        "id": "ImurDXzJ_Wa0"
      },
      "source": [
        "# solution-1 = [[1], [2], [3]]\n",
        "# solution-2 = [[1,2], [1,3], [2,1], [2,3], [3,1], [3,2]]\n",
        "# solution-3 = [[1,2,3], [1,3,2], [2,1,3], [2,3,1], [3,1,2], [3,2,1]]"
      ],
      "execution_count": null,
      "outputs": []
    },
    {
      "cell_type": "code",
      "metadata": {
        "id": "mneYkjGQ_Wa1",
        "outputId": "4c7d373c-daea-422f-eb5e-7ac676964ef6"
      },
      "source": [
        "for index in range(len(num)) :\n",
        "    solution = [i + [j] for i in solution for j in num_set.difference(set(i))]\n",
        "    print(solution)\n",
        "solution"
      ],
      "execution_count": null,
      "outputs": [
        {
          "output_type": "stream",
          "text": [
            "[[1], [2], [3]]\n",
            "[[1, 2], [1, 3], [2, 1], [2, 3], [3, 1], [3, 2]]\n",
            "[[1, 2, 3], [1, 3, 2], [2, 1, 3], [2, 3, 1], [3, 1, 2], [3, 2, 1]]\n"
          ],
          "name": "stdout"
        },
        {
          "output_type": "execute_result",
          "data": {
            "text/plain": [
              "[[1, 2, 3], [1, 3, 2], [2, 1, 3], [2, 3, 1], [3, 1, 2], [3, 2, 1]]"
            ]
          },
          "metadata": {
            "tags": []
          },
          "execution_count": 38
        }
      ]
    },
    {
      "cell_type": "code",
      "metadata": {
        "id": "-r1YFQSg_Wa2",
        "outputId": "46bb6251-ad3e-4ce9-ca04-8702a6c66bfd"
      },
      "source": [
        "for i in range(3) :\n",
        "    print(\"bugün ayrılık günü\")"
      ],
      "execution_count": null,
      "outputs": [
        {
          "output_type": "stream",
          "text": [
            "bugün ayrılık günü\n",
            "bugün ayrılık günü\n",
            "bugün ayrılık günü\n"
          ],
          "name": "stdout"
        }
      ]
    },
    {
      "cell_type": "code",
      "metadata": {
        "id": "NF5zxJRD_Wa5",
        "outputId": "491229eb-cac0-42af-cd53-fb41176871ce"
      },
      "source": [
        "x = []\n",
        "for i in range(3) :\n",
        "    for j in range(4) :\n",
        "        x.append(j+i)\n",
        "x"
      ],
      "execution_count": null,
      "outputs": [
        {
          "output_type": "execute_result",
          "data": {
            "text/plain": [
              "[0, 1, 2, 3, 1, 2, 3, 4, 2, 3, 4, 5]"
            ]
          },
          "metadata": {
            "tags": []
          },
          "execution_count": 23
        }
      ]
    },
    {
      "cell_type": "code",
      "metadata": {
        "id": "-Si7e9Bt_Wa7",
        "outputId": "27651272-5439-4b4c-847c-4ebad951b5bd"
      },
      "source": [
        "[j+i for i in range(3) for j in range(4)]"
      ],
      "execution_count": null,
      "outputs": [
        {
          "output_type": "execute_result",
          "data": {
            "text/plain": [
              "[0, 1, 2, 3, 1, 2, 3, 4, 2, 3, 4, 5]"
            ]
          },
          "metadata": {
            "tags": []
          },
          "execution_count": 25
        }
      ]
    },
    {
      "cell_type": "code",
      "metadata": {
        "id": "jnKLTvp0_Wa8"
      },
      "source": [
        "def equal(a, b, c):\n",
        "    numbers = [a, b, c]\n",
        "    res = numbers.count(max(numbers, key=numbers.count))\n",
        "    if res > 1 :\n",
        "        return res\n",
        "    else:\n",
        "        return 0"
      ],
      "execution_count": null,
      "outputs": []
    },
    {
      "cell_type": "code",
      "metadata": {
        "id": "Y06QSd_i_WbA",
        "outputId": "7765ea70-9eb9-4bf2-f5f6-2094c6167c12"
      },
      "source": [
        "equal(1,2,3)"
      ],
      "execution_count": null,
      "outputs": [
        {
          "output_type": "execute_result",
          "data": {
            "text/plain": [
              "0"
            ]
          },
          "metadata": {
            "tags": []
          },
          "execution_count": 44
        }
      ]
    },
    {
      "cell_type": "code",
      "metadata": {
        "id": "k-wCjOwA_WbC"
      },
      "source": [
        "equall = lambda x,y,z : [x,y,z].count(max([x,y,z], key = [x,y,z].count)) \\\n",
        "         if [x,y,z].count(max([x,y,z], key = [x,y,z].count))>1 else 0"
      ],
      "execution_count": null,
      "outputs": []
    },
    {
      "cell_type": "code",
      "metadata": {
        "id": "Y2oytzy0_WbD",
        "outputId": "a8954d58-6cf5-4aab-c8a2-b2b838f9c234"
      },
      "source": [
        "equall(1,2,3)"
      ],
      "execution_count": null,
      "outputs": [
        {
          "output_type": "execute_result",
          "data": {
            "text/plain": [
              "0"
            ]
          },
          "metadata": {
            "tags": []
          },
          "execution_count": 51
        }
      ]
    },
    {
      "cell_type": "markdown",
      "metadata": {
        "id": "PVQg3J5M_WbE"
      },
      "source": [
        "```python\n",
        "if_body if condition else else_body\n",
        "```"
      ]
    },
    {
      "cell_type": "markdown",
      "metadata": {
        "id": "JS-qzEXu_WbF"
      },
      "source": [
        "```python\n",
        "(lambda parametre : statements)(arguments)\n",
        "```"
      ]
    },
    {
      "cell_type": "code",
      "metadata": {
        "id": "rA9Dlq5u_WbG"
      },
      "source": [
        "bb = lambda *x :  list(x).count(max(list(x), key = list(x).count)) \\\n",
        "         if list(x).count(max(list(x), key = list(x).count))>1 else 0"
      ],
      "execution_count": null,
      "outputs": []
    },
    {
      "cell_type": "code",
      "metadata": {
        "id": "W7WGKjB8_WbH",
        "outputId": "c98224cd-be2c-4e9e-e5b8-9f218b459fe2"
      },
      "source": [
        "bb(1,1,1,2,3,4)"
      ],
      "execution_count": null,
      "outputs": [
        {
          "output_type": "execute_result",
          "data": {
            "text/plain": [
              "3"
            ]
          },
          "metadata": {
            "tags": []
          },
          "execution_count": 53
        }
      ]
    },
    {
      "cell_type": "code",
      "metadata": {
        "id": "wh8rhh2V_WbI"
      },
      "source": [
        ""
      ],
      "execution_count": null,
      "outputs": []
    },
    {
      "cell_type": "code",
      "metadata": {
        "id": "29QZ0j15_WbJ"
      },
      "source": [
        ""
      ],
      "execution_count": null,
      "outputs": []
    }
  ]
}