{
  "nbformat": 4,
  "nbformat_minor": 0,
  "metadata": {
    "colab": {
      "name": "teamwork11.ipynb",
      "provenance": [],
      "authorship_tag": "ABX9TyMFOp3epP526kOTUzQZShYG",
      "include_colab_link": true
    },
    "kernelspec": {
      "name": "python3",
      "display_name": "Python 3"
    },
    "language_info": {
      "name": "python"
    }
  },
  "cells": [
    {
      "cell_type": "markdown",
      "metadata": {
        "id": "view-in-github",
        "colab_type": "text"
      },
      "source": [
        "<a href=\"https://colab.research.google.com/github/mehmetsar/challenges/blob/main/teamwork11.ipynb\" target=\"_parent\"><img src=\"https://colab.research.google.com/assets/colab-badge.svg\" alt=\"Open In Colab\"/></a>"
      ]
    },
    {
      "cell_type": "code",
      "metadata": {
        "colab": {
          "base_uri": "https://localhost:8080/"
        },
        "id": "CdI95leaP3JE",
        "outputId": "6eb5df3b-3502-455c-8246-03595e204945"
      },
      "source": [
        "import random\n",
        "random.randrange(0,91,5)"
      ],
      "execution_count": 2,
      "outputs": [
        {
          "output_type": "execute_result",
          "data": {
            "text/plain": [
              "85"
            ]
          },
          "metadata": {
            "tags": []
          },
          "execution_count": 2
        }
      ]
    },
    {
      "cell_type": "code",
      "metadata": {
        "colab": {
          "base_uri": "https://localhost:8080/"
        },
        "id": "zRnJHPaEQEFm",
        "outputId": "1b910488-e94d-4903-fa5a-7fd72aef4237"
      },
      "source": [
        "def foo():\n",
        " try:\n",
        "   return 1\n",
        " finally:\n",
        "   return 2\n",
        "k = foo()\n",
        "print(k)\n"
      ],
      "execution_count": 4,
      "outputs": [
        {
          "output_type": "stream",
          "text": [
            "2\n"
          ],
          "name": "stdout"
        }
      ]
    },
    {
      "cell_type": "code",
      "metadata": {
        "id": "456aPTFtQJFk"
      },
      "source": [
        "x=10\n",
        "y=8\n",
        "assert x>y, 'X too small'"
      ],
      "execution_count": 7,
      "outputs": []
    },
    {
      "cell_type": "code",
      "metadata": {
        "colab": {
          "base_uri": "https://localhost:8080/"
        },
        "id": "xXZla0g7QREO",
        "outputId": "c2541327-0262-42c9-c400-d68a9706a51d"
      },
      "source": [
        "valid = False\n",
        "while not valid:\n",
        " try:\n",
        "   n=int(input(\"Enter a number\"))\n",
        "   while n%2==0:\n",
        "     print(\"Bye\")\n",
        "   valid = True\n",
        " except ValueError:\n",
        "   print(\"Invalid\")\n"
      ],
      "execution_count": 8,
      "outputs": [
        {
          "output_type": "stream",
          "text": [
            "Enter a number35\n"
          ],
          "name": "stdout"
        }
      ]
    },
    {
      "cell_type": "code",
      "metadata": {
        "colab": {
          "base_uri": "https://localhost:8080/"
        },
        "id": "EuJ7AgpDQpXu",
        "outputId": "d79b06ec-8fb4-498b-c7b1-d62b974dbe0b"
      },
      "source": [
        "def f(x, y, z): return x + y + z\n",
        "f(2, 30, 400)\n"
      ],
      "execution_count": 9,
      "outputs": [
        {
          "output_type": "execute_result",
          "data": {
            "text/plain": [
              "432"
            ]
          },
          "metadata": {
            "tags": []
          },
          "execution_count": 9
        }
      ]
    },
    {
      "cell_type": "code",
      "metadata": {
        "colab": {
          "base_uri": "https://localhost:8080/"
        },
        "id": "4bgOUfmCQsH2",
        "outputId": "2059a540-9310-4b35-8641-6278b0b40bac"
      },
      "source": [
        "{a**2 for a in range(4)}\n"
      ],
      "execution_count": 10,
      "outputs": [
        {
          "output_type": "execute_result",
          "data": {
            "text/plain": [
              "{0, 1, 4, 9}"
            ]
          },
          "metadata": {
            "tags": []
          },
          "execution_count": 10
        }
      ]
    },
    {
      "cell_type": "code",
      "metadata": {
        "colab": {
          "base_uri": "https://localhost:8080/"
        },
        "id": "AKHw-uPRQzT2",
        "outputId": "92d9ac9c-ef63-4e34-e6cc-3d7e0fb80e95"
      },
      "source": [
        "import copy\n",
        "a=[10,23,56,[78]]\n",
        "b=copy.deepcopy(a)\n",
        "a[3][0]=95\n",
        "a[1]=34\n",
        "print(b)\n"
      ],
      "execution_count": 11,
      "outputs": [
        {
          "output_type": "stream",
          "text": [
            "[10, 23, 56, [78]]\n"
          ],
          "name": "stdout"
        }
      ]
    },
    {
      "cell_type": "code",
      "metadata": {
        "id": "WVT3PrKZQ2hm"
      },
      "source": [
        ""
      ],
      "execution_count": null,
      "outputs": []
    }
  ]
}