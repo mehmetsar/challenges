{
  "nbformat": 4,
  "nbformat_minor": 0,
  "metadata": {
    "colab": {
      "name": "teamwork11.ipynb",
      "provenance": [],
      "authorship_tag": "ABX9TyOGNL6MppqOAwc3f90AQ7PI",
      "include_colab_link": true
    },
    "kernelspec": {
      "name": "python3",
      "display_name": "Python 3"
    },
    "language_info": {
      "name": "python"
    }
  },
  "cells": [
    {
      "cell_type": "markdown",
      "metadata": {
        "id": "view-in-github",
        "colab_type": "text"
      },
      "source": [
        "<a href=\"https://colab.research.google.com/github/mehmetsar/challenges/blob/main/teamwork11.ipynb\" target=\"_parent\"><img src=\"https://colab.research.google.com/assets/colab-badge.svg\" alt=\"Open In Colab\"/></a>"
      ]
    },
    {
      "cell_type": "code",
      "metadata": {
        "id": "CdI95leaP3JE"
      },
      "source": [
        "import random\n",
        "random.randrange(0,91,5)"
      ],
      "execution_count": null,
      "outputs": []
    },
    {
      "cell_type": "code",
      "metadata": {
        "colab": {
          "base_uri": "https://localhost:8080/"
        },
        "id": "zRnJHPaEQEFm",
        "outputId": "fea20f9b-86ce-4f62-f541-b763f691a40f"
      },
      "source": [
        "def foo():\n",
        " try:\n",
        "   return 1\n",
        " finally:\n",
        "   return 2\n",
        "k = foo()\n",
        "print(k)\n"
      ],
      "execution_count": 18,
      "outputs": [
        {
          "output_type": "stream",
          "text": [
            "2\n"
          ],
          "name": "stdout"
        }
      ]
    },
    {
      "cell_type": "code",
      "metadata": {
        "id": "456aPTFtQJFk"
      },
      "source": [
        "x=10\n",
        "y=8\n",
        "assert x>y, 'X too small'"
      ],
      "execution_count": 16,
      "outputs": []
    },
    {
      "cell_type": "code",
      "metadata": {
        "colab": {
          "base_uri": "https://localhost:8080/"
        },
        "id": "xXZla0g7QREO",
        "outputId": "0a93a9a2-bbc9-42aa-9192-fd4182d7ad99"
      },
      "source": [
        "valid = False\n",
        "while not valid:\n",
        " try:\n",
        "   n=int(input(\"Enter a number\"))\n",
        "   while n%2==0:\n",
        "     print(\"Bye\")\n",
        "   valid = True\n",
        " except ValueError:\n",
        "   print(\"Invalid\")\n"
      ],
      "execution_count": 19,
      "outputs": [
        {
          "output_type": "stream",
          "text": [
            "Enter a number5\n"
          ],
          "name": "stdout"
        }
      ]
    },
    {
      "cell_type": "code",
      "metadata": {
        "id": "EuJ7AgpDQpXu"
      },
      "source": [
        "def f(x, y, z): return x + y + z\n",
        "f(2, 30, 400)\n"
      ],
      "execution_count": null,
      "outputs": []
    },
    {
      "cell_type": "code",
      "metadata": {
        "colab": {
          "base_uri": "https://localhost:8080/"
        },
        "id": "4bgOUfmCQsH2",
        "outputId": "0ebb7d39-8a66-4ba6-dcc7-56fd4a7fb938"
      },
      "source": [
        "{a**2 for a in range(4)}\n"
      ],
      "execution_count": 21,
      "outputs": [
        {
          "output_type": "execute_result",
          "data": {
            "text/plain": [
              "{0, 1, 4, 9}"
            ]
          },
          "metadata": {
            "tags": []
          },
          "execution_count": 21
        }
      ]
    },
    {
      "cell_type": "code",
      "metadata": {
        "id": "AKHw-uPRQzT2"
      },
      "source": [
        "import copy\n",
        "a=[10,23,56,[78]]\n",
        "b=copy.deepcopy(a)  ## listeyi değişiklik yapılmamış haliyle kopyalar\n",
        "a[3][0]=95\n",
        "a[1]=34\n",
        "print(b)\n"
      ],
      "execution_count": null,
      "outputs": []
    },
    {
      "cell_type": "code",
      "metadata": {
        "id": "WVT3PrKZQ2hm"
      },
      "source": [
        "a=[1,2,3,4]\n",
        "b=[sum(a[0:x+1]) for x in range(0,len(a))]\n",
        "print(b)\n"
      ],
      "execution_count": null,
      "outputs": []
    },
    {
      "cell_type": "code",
      "metadata": {
        "colab": {
          "base_uri": "https://localhost:8080/"
        },
        "id": "Pf1SINbhQ9Yl",
        "outputId": "767679b6-4808-42af-a901-b0ea9d89fcc9"
      },
      "source": [
        "print('abcefd'.replace('cd', '12'))\n"
      ],
      "execution_count": 13,
      "outputs": [
        {
          "output_type": "stream",
          "text": [
            "abcefd\n"
          ],
          "name": "stdout"
        }
      ]
    }
  ]
}