{
  "nbformat": 4,
  "nbformat_minor": 0,
  "metadata": {
    "colab": {
      "name": "sql questions.ipynb",
      "provenance": [],
      "authorship_tag": "ABX9TyMMTJ17TLiwk8BXWTJMYAGO",
      "include_colab_link": true
    },
    "kernelspec": {
      "name": "python3",
      "display_name": "Python 3"
    },
    "language_info": {
      "name": "python"
    }
  },
  "cells": [
    {
      "cell_type": "markdown",
      "metadata": {
        "id": "view-in-github",
        "colab_type": "text"
      },
      "source": [
        "<a href=\"https://colab.research.google.com/github/mehmetsar/challenges/blob/main/sql_questions.ipynb\" target=\"_parent\"><img src=\"https://colab.research.google.com/assets/colab-badge.svg\" alt=\"Open In Colab\"/></a>"
      ]
    },
    {
      "cell_type": "markdown",
      "metadata": {
        "id": "Gonv5nsaSqak"
      },
      "source": [
        "Use chinook database sql\n",
        "\n",
        "Questions:\n",
        "\n",
        "Single-Row Subqueries:\n",
        "\n",
        "Write a query to find the maximum duration among the tracks. Your query should include TrackId, Name, Milliseconds.\n",
        "\n",
        "Write a query to find the minimum duration among the tracks. Your query should include TrackId, Name, Milliseconds.\n",
        "\n",
        "Write a query to find the tracks whose bytes are higher than the average of the bytes of all tracks. Your query should include TrackId, Name, Bytes, general average and should be ordered by Bytes from highest to lowest. General average is the average of all tracks. General average should repeat in every row. (Hint: You need to use two subqueries)\n",
        "\n",
        "   Multiple-Row Subqueries:\n",
        "\n",
        "Write a query that returns the customers whose sales representatives are Jane Peacock and Margaret Park. Your query should include CustomerID, First Name and Last Name of the customers.\n",
        "\n",
        "Rewrite the subquery above using the JOIN.\n",
        "\n",
        "   DDL (CREATE, ALTER, DELETE) and DML (SELECT, INSERT, UPDATE, DELETE) Statements\n",
        "\n",
        "Create a table inside the chinook database. This table tracks the employees’ courses inside the organization. Your table should have the followings features:\n",
        "\n",
        "               Name of the table: courses\n",
        "               Columns:\n",
        "                    CourseId (Primary Key)\n",
        "                    CourseName (Cannot be null)\n",
        "                    EmployeeId (Foreign Key - Refers to EmployeeId of employees table ) \n",
        "                    CoursePrice\n",
        "\n",
        "      2. Insert at least 5 rows into the courses table. Your EmployeeId should contain the values of the EmployeeId column on the employees table. You’re free to choose any values for other columns (CourseId, CourseName, CoursePrice)\n",
        "Delete the last row of your courses table.\n",
        "\n",
        "Add a new column to your courses table named StartDate. The new column cannot be null.\n",
        "\n",
        "Delete the CoursePrice column.\n",
        "\n",
        "Delete the courses table."
      ]
    }
  ]
}