{
  "nbformat": 4,
  "nbformat_minor": 0,
  "metadata": {
    "colab": {
      "name": "sql questions.ipynb",
      "provenance": [],
      "authorship_tag": "ABX9TyOzJzgvGL+/JcpF/B/zZQac",
      "include_colab_link": true
    },
    "kernelspec": {
      "name": "python3",
      "display_name": "Python 3"
    },
    "language_info": {
      "name": "python"
    }
  },
  "cells": [
    {
      "cell_type": "markdown",
      "metadata": {
        "id": "view-in-github",
        "colab_type": "text"
      },
      "source": [
        "<a href=\"https://colab.research.google.com/github/mehmetsar/challenges/blob/main/sql_questions.ipynb\" target=\"_parent\"><img src=\"https://colab.research.google.com/assets/colab-badge.svg\" alt=\"Open In Colab\"/></a>"
      ]
    },
    {
      "cell_type": "markdown",
      "metadata": {
        "id": "Gonv5nsaSqak"
      },
      "source": [
        "Use chinook database sql\n",
        "\n",
        "Questions:\n",
        "\n",
        "Single-Row Subqueries:\n",
        "\n",
        "Write a query to find the maximum duration among the tracks. Your query should include TrackId, Name, Milliseconds.\n",
        "\n",
        "Write a query to find the minimum duration among the tracks. Your query should include TrackId, Name, Milliseconds.\n",
        "\n",
        "Write a query to find the tracks whose bytes are higher than the average of the bytes of all tracks. Your query should include TrackId, Name, Bytes, general average and should be ordered by Bytes from highest to lowest. General average is the average of all tracks. General average should repeat in every row. (Hint: You need to use two subqueries)\n",
        "\n",
        "   Multiple-Row Subqueries:\n",
        "\n",
        "Write a query that returns the customers whose sales representatives are Jane Peacock and Margaret Park. Your query should include CustomerID, First Name and Last Name of the customers.\n",
        "\n",
        "Rewrite the subquery above using the JOIN.\n",
        "\n",
        "   DDL (CREATE, ALTER, DELETE) and DML (SELECT, INSERT, UPDATE, DELETE) Statements\n",
        "\n",
        "Create a table inside the chinook database. This table tracks the employees’ courses inside the organization. Your table should have the followings features:\n",
        "\n",
        "               Name of the table: courses\n",
        "               Columns:\n",
        "                    CourseId (Primary Key)\n",
        "                    CourseName (Cannot be null)\n",
        "                    EmployeeId (Foreign Key - Refers to EmployeeId of employees table ) \n",
        "                    CoursePrice\n",
        "\n",
        "      2. Insert at least 5 rows into the courses table. Your EmployeeId should contain the values of the EmployeeId column on the employees table. You’re free to choose any values for other columns (CourseId, CourseName, CoursePrice)\n",
        "Delete the last row of your courses table.\n",
        "\n",
        "Add a new column to your courses table named StartDate. The new column cannot be null.\n",
        "\n",
        "Delete the CoursePrice column.\n",
        "\n",
        "Delete the courses table."
      ]
    },
    {
      "cell_type": "code",
      "metadata": {
        "id": "c2gEREjx4-Bg"
      },
      "source": [
        ""
      ],
      "execution_count": null,
      "outputs": []
    },
    {
      "cell_type": "markdown",
      "metadata": {
        "id": "QmWmE-IA4-xR"
      },
      "source": [
        "\n",
        "Single-Row Queries\n",
        "\n",
        "1. SELECT TrackId, Name, Milliseconds FROM tracks ORDER BY Milliseconds DESC LIMIT 1 \n",
        "\n",
        "2. SELECT TrackId, Name, Milliseconds FROM tracks ORDER BY Milliseconds ASC LIMIT 1 \n",
        "\n",
        "3. SELECT TrackId, Name, Bytes FROM tracks WHERE Bytes> (SELECT avg(Bytes) FROM tracks)\n",
        "\n",
        "Multiple-Row Subqueries\n",
        "\n",
        "1.SELECT  customers.CustomerId, customers.FirstName, customers.LastName FROM customers where SupportRepId IN (select EmployeeId from employees where EmployeeId=3 or EmployeeId=4)\n",
        "\n",
        "2.SELECT  customers.CustomerId, customers.FirstName, customers.LastName FROM customers left JOIN employees on employees.EmployeeId=customers.SupportRepId WHERE  employees.EmployeeId IN (3,4)\n",
        "\n",
        "\n",
        "\n",
        "DDL and DML\n",
        "\n",
        "1. Create  table courses (\n",
        "\n",
        "                    CourseId  INT Primary Key,\n",
        "\n",
        "                    CourseName TEXT NOTNULL,\n",
        "\n",
        "                    EmployeeId INT ,\n",
        "\n",
        "                    CoursePrice INT,\n",
        "\n",
        "\t\t\t\t\tFOREIGN KEY (EmployeeId)\n",
        "\n",
        "\t\t\t\t\t REFERENCES employees(EmployeeId) )\n",
        "\n",
        "\t\t\t\t\t ;\n",
        "\n",
        "2.INSERT INTO courses (CourseId, CourseName, EmployeeId, CoursePrice)\n",
        "\n",
        "VALUES (1,\"Math\",1,15),\n",
        "\n",
        "       (2,\"English\",3,20),\n",
        "\n",
        "\t   (3,\"Math\",4,15),\n",
        "\n",
        "\t   (4,\"M. learning\",6,45);\n",
        "\n",
        "3.DELETE FROM courses where \"Courseid\"=5;\n",
        "\n",
        "4. ALTER TABLE courses  ADD StartDate date NOT NULL \"1.1.2020\";\n",
        "\n",
        "5. ALTER TABLE Courses\n",
        "DROP COLUMN CoursePrice;\n",
        "\n",
        "6.Drop Table Courses;"
      ]
    }
  ]
}