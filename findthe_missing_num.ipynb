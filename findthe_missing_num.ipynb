{
  "nbformat": 4,
  "nbformat_minor": 0,
  "metadata": {
    "colab": {
      "name": "findthe_missing_num.ipynb",
      "provenance": [],
      "authorship_tag": "ABX9TyO1IrnwIwoiJsgCwOl+fbPf",
      "include_colab_link": true
    },
    "kernelspec": {
      "name": "python3",
      "display_name": "Python 3"
    },
    "language_info": {
      "name": "python"
    }
  },
  "cells": [
    {
      "cell_type": "markdown",
      "metadata": {
        "id": "view-in-github",
        "colab_type": "text"
      },
      "source": [
        "<a href=\"https://colab.research.google.com/github/mehmetsar/challenges/blob/main/findthe_missing_num.ipynb\" target=\"_parent\"><img src=\"https://colab.research.google.com/assets/colab-badge.svg\" alt=\"Open In Colab\"/></a>"
      ]
    },
    {
      "cell_type": "code",
      "metadata": {
        "colab": {
          "base_uri": "https://localhost:8080/"
        },
        "id": "VKF2Nx8jqlUa",
        "outputId": "e03c1f9f-90a3-4adb-8f93-dbf67e1308d4"
      },
      "source": [
        "lista = [2, 5, 8 ,7 , 4, 3, 1 ] \n",
        "listb = list(range(min(lista),max(lista)+1))\n",
        "for i in listb:\n",
        "    if i not in lista:\n",
        "        print(i, \" is the missing num\")"
      ],
      "execution_count": 1,
      "outputs": [
        {
          "output_type": "stream",
          "text": [
            "6  is the missing num\n"
          ],
          "name": "stdout"
        }
      ]
    }
  ]
}