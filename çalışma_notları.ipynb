{
  "nbformat": 4,
  "nbformat_minor": 0,
  "metadata": {
    "colab": {
      "name": "çalışma_notları.ipynb",
      "provenance": [],
      "authorship_tag": "ABX9TyPtUw02GxCmv21116z3SfYz",
      "include_colab_link": true
    },
    "kernelspec": {
      "name": "python3",
      "display_name": "Python 3"
    },
    "language_info": {
      "name": "python"
    }
  },
  "cells": [
    {
      "cell_type": "markdown",
      "metadata": {
        "id": "view-in-github",
        "colab_type": "text"
      },
      "source": [
        "<a href=\"https://colab.research.google.com/github/mehmetsar/challenges/blob/main/%C3%A7al%C4%B1%C5%9Fma_notlar%C4%B1.ipynb\" target=\"_parent\"><img src=\"https://colab.research.google.com/assets/colab-badge.svg\" alt=\"Open In Colab\"/></a>"
      ]
    },
    {
      "cell_type": "code",
      "metadata": {
        "colab": {
          "base_uri": "https://localhost:8080/"
        },
        "id": "5ao3E3T7w7bP",
        "outputId": "57905fa6-28b3-4e3f-c203-32510523e3b9"
      },
      "source": [
        "word= {1 : \"1\", 2 : \"2\"}\n",
        "\n",
        "keys = word.keys()\n",
        "print(keys)\n"
      ],
      "execution_count": 1,
      "outputs": [
        {
          "output_type": "stream",
          "text": [
            "dict_keys([1, 2])\n"
          ],
          "name": "stdout"
        }
      ]
    },
    {
      "cell_type": "code",
      "metadata": {
        "colab": {
          "base_uri": "https://localhost:8080/"
        },
        "id": "WcSt0f-DyPo4",
        "outputId": "e97186a2-2d5f-4512-b25d-d643f22c8589"
      },
      "source": [
        "word_1 = {}\n",
        "word_1[3] = 1\n",
        "word_1\n"
      ],
      "execution_count": 3,
      "outputs": [
        {
          "output_type": "execute_result",
          "data": {
            "text/plain": [
              "{3: 1}"
            ]
          },
          "metadata": {
            "tags": []
          },
          "execution_count": 3
        }
      ]
    },
    {
      "cell_type": "code",
      "metadata": {
        "colab": {
          "base_uri": "https://localhost:8080/"
        },
        "id": "d6P0mwnM11lg",
        "outputId": "5061a89e-8060-4cf3-bcd0-8dd85beec221"
      },
      "source": [
        "veri = ['a','b', True, (False,1), {'1':2}, [1,2], {'2': 'two'}, {2,'3'}, 'c', 23, 0]\n",
        "tipler=[\"int\", \"str\", \"bool\",\"list\",\"dict\",\"tuple\",\"set\"]\n",
        "toplam={}.fromkeys(tipler,0)\n",
        "for i in range(len(veri)) :\n",
        "    if type(veri[i]) == int: toplam[\"int\"] += 1\n",
        "    elif type(veri[i]) == str: toplam[\"str\"] += 1\n",
        "    elif type(veri[i]) == bool: toplam[\"bool\"] += 1\n",
        "    elif type(veri[i]) == list: toplam[\"list\"] += 1\n",
        "    elif type(veri[i]) == tuple: toplam[\"tuple\"] += 1\n",
        "    elif type(veri[i]) == dict: toplam[\"dict\"] += 1\n",
        "    elif type(veri[i]) == set: toplam[\"set\"] += 1\n",
        "toplam  "
      ],
      "execution_count": 18,
      "outputs": [
        {
          "output_type": "execute_result",
          "data": {
            "text/plain": [
              "{'bool': 1, 'dict': 2, 'int': 2, 'list': 1, 'set': 1, 'str': 3, 'tuple': 1}"
            ]
          },
          "metadata": {
            "tags": []
          },
          "execution_count": 18
        }
      ]
    },
    {
      "cell_type": "code",
      "metadata": {
        "colab": {
          "base_uri": "https://localhost:8080/",
          "height": 35
        },
        "id": "QXmq0kwW5HcF",
        "outputId": "55429609-4441-45e7-c751-d9c54a6a6370"
      },
      "source": [
        "pwd"
      ],
      "execution_count": 19,
      "outputs": [
        {
          "output_type": "execute_result",
          "data": {
            "application/vnd.google.colaboratory.intrinsic+json": {
              "type": "string"
            },
            "text/plain": [
              "'/content'"
            ]
          },
          "metadata": {
            "tags": []
          },
          "execution_count": 19
        }
      ]
    },
    {
      "cell_type": "code",
      "metadata": {
        "colab": {
          "base_uri": "https://localhost:8080/"
        },
        "id": "KKO2j7bt5OgG",
        "outputId": "8c230848-64ea-4618-c46a-2badc535cc4c"
      },
      "source": [
        "import os\n",
        "os.listdir()  ## pwd içeriğini gösterir"
      ],
      "execution_count": 22,
      "outputs": [
        {
          "output_type": "execute_result",
          "data": {
            "text/plain": [
              "['.config', 'sample_data']"
            ]
          },
          "metadata": {
            "tags": []
          },
          "execution_count": 22
        }
      ]
    },
    {
      "cell_type": "code",
      "metadata": {
        "id": "n673EGuM5juF"
      },
      "source": [
        ""
      ],
      "execution_count": null,
      "outputs": []
    }
  ]
}