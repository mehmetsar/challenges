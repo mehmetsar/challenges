{
  "nbformat": 4,
  "nbformat_minor": 0,
  "metadata": {
    "colab": {
      "name": "Untitled32.ipynb",
      "provenance": [],
      "authorship_tag": "ABX9TyOZ1ueNI/qDb6v8gL+eAsTO",
      "include_colab_link": true
    },
    "kernelspec": {
      "name": "python3",
      "display_name": "Python 3"
    },
    "language_info": {
      "name": "python"
    }
  },
  "cells": [
    {
      "cell_type": "markdown",
      "metadata": {
        "id": "view-in-github",
        "colab_type": "text"
      },
      "source": [
        "<a href=\"https://colab.research.google.com/github/mehmetsar/challenges/blob/main/Untitled32.ipynb\" target=\"_parent\"><img src=\"https://colab.research.google.com/assets/colab-badge.svg\" alt=\"Open In Colab\"/></a>"
      ]
    },
    {
      "cell_type": "code",
      "metadata": {
        "id": "U8Cs9TFQsC_t"
      },
      "source": [
        "string_a=\"123\"\n",
        "\n",
        "def string_divider(a):\n",
        "    count=0\n",
        "    if count==2**len(a):\n",
        "      return a\n",
        "    else:\n",
        "      print(a[1], \" \", def(a))  \n",
        "    "
      ],
      "execution_count": null,
      "outputs": []
    }
  ]
}