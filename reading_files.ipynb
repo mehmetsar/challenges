{
  "nbformat": 4,
  "nbformat_minor": 0,
  "metadata": {
    "colab": {
      "name": "reading_files.ipynb",
      "provenance": [],
      "authorship_tag": "ABX9TyOqVYc2bWsBRQjW0WeTHARV",
      "include_colab_link": true
    },
    "kernelspec": {
      "name": "python3",
      "display_name": "Python 3"
    },
    "language_info": {
      "name": "python"
    }
  },
  "cells": [
    {
      "cell_type": "markdown",
      "metadata": {
        "id": "view-in-github",
        "colab_type": "text"
      },
      "source": [
        "<a href=\"https://colab.research.google.com/github/mehmetsar/challenges/blob/main/reading_files.ipynb\" target=\"_parent\"><img src=\"https://colab.research.google.com/assets/colab-badge.svg\" alt=\"Open In Colab\"/></a>"
      ]
    },
    {
      "cell_type": "code",
      "metadata": {
        "colab": {
          "base_uri": "https://localhost:8080/"
        },
        "id": "bBKtY9ORXX6m",
        "outputId": "81bdbddf-b61f-496d-d77e-36689302066a"
      },
      "source": [
        "sea=open(\"fishes.txt\",\"r\")\n",
        "print(sea.read())\n",
        "sea.close()"
      ],
      "execution_count": 9,
      "outputs": [
        {
          "output_type": "stream",
          "text": [
            "Orca is a kind of Dolphin.\n",
            "Blue Whale is the largest animal known on earth.\n",
            "Sharks are the sister group to the Rays (batoids).\n",
            "The Tuna Fish can weigh up to 260 kg.\n",
            "Squid and Octopus are in the same class.\n"
          ],
          "name": "stdout"
        }
      ]
    },
    {
      "cell_type": "code",
      "metadata": {
        "colab": {
          "base_uri": "https://localhost:8080/"
        },
        "id": "ePHg86WTaTNZ",
        "outputId": "ed058885-11e2-4841-9d88-124ba35c6e5a"
      },
      "source": [
        "sea=open(\"fishes.txt\",\"r\")\n",
        "print(sea.read(33))\n",
        "print(sea.read(33))\n",
        "sea.seek(1)\n",
        "print(sea.read(33))\n",
        "sea.close()"
      ],
      "execution_count": 12,
      "outputs": [
        {
          "output_type": "stream",
          "text": [
            "Orca is a kind of Dolphin.\n",
            "Blue W\n",
            "hale is the largest animal known \n",
            "rca is a kind of Dolphin.\n",
            "Blue Wh\n"
          ],
          "name": "stdout"
        }
      ]
    }
  ]
}