{
  "nbformat": 4,
  "nbformat_minor": 0,
  "metadata": {
    "colab": {
      "name": "studynotes.ipynb",
      "provenance": [],
      "authorship_tag": "ABX9TyNvN8Gpv8Hg2Jx8K5Tutry0",
      "include_colab_link": true
    },
    "kernelspec": {
      "name": "python3",
      "display_name": "Python 3"
    },
    "language_info": {
      "name": "python"
    }
  },
  "cells": [
    {
      "cell_type": "markdown",
      "metadata": {
        "id": "view-in-github",
        "colab_type": "text"
      },
      "source": [
        "<a href=\"https://colab.research.google.com/github/mehmetsar/challenges/blob/main/studynotes.ipynb\" target=\"_parent\"><img src=\"https://colab.research.google.com/assets/colab-badge.svg\" alt=\"Open In Colab\"/></a>"
      ]
    },
    {
      "cell_type": "code",
      "metadata": {
        "colab": {
          "base_uri": "https://localhost:8080/"
        },
        "id": "DNQfkXDLjG6p",
        "outputId": "ba004f08-f897-4c3b-a7ea-1700ff05662b"
      },
      "source": [
        "def san(x):\n",
        " print(x+1)\n",
        "x=-2\n",
        "x=4\n",
        "san(12)"
      ],
      "execution_count": 1,
      "outputs": [
        {
          "output_type": "stream",
          "text": [
            "13\n"
          ],
          "name": "stdout"
        }
      ]
    },
    {
      "cell_type": "code",
      "metadata": {
        "colab": {
          "base_uri": "https://localhost:8080/"
        },
        "id": "--L2tFU2jPI1",
        "outputId": "74b3c80c-7fd0-48b9-f62f-87a2adfdc132"
      },
      "source": [
        "def foo(fname, val):\n",
        " print(fname(val))\n",
        "foo(max, [1, 2, 3])\n",
        "foo(min, [1, 2, 3])\n"
      ],
      "execution_count": 2,
      "outputs": [
        {
          "output_type": "stream",
          "text": [
            "3\n",
            "1\n"
          ],
          "name": "stdout"
        }
      ]
    },
    {
      "cell_type": "code",
      "metadata": {
        "colab": {
          "base_uri": "https://localhost:8080/"
        },
        "id": "6CEAztNUjTsj",
        "outputId": "fb5491b7-80a5-4b3c-e4b4-9825ca835d11"
      },
      "source": [
        "a=10\n",
        "globals()['a']=25\n",
        "print(a)\n"
      ],
      "execution_count": 3,
      "outputs": [
        {
          "output_type": "stream",
          "text": [
            "25\n"
          ],
          "name": "stdout"
        }
      ]
    },
    {
      "cell_type": "code",
      "metadata": {
        "colab": {
          "base_uri": "https://localhost:8080/"
        },
        "id": "Cm4Z0VM4jdaL",
        "outputId": "fea9dd86-6a45-439d-b22f-752efd670bd0"
      },
      "source": [
        "f=lambda x:bool(x%2)\n",
        "print(f(20), f(21))\n"
      ],
      "execution_count": 4,
      "outputs": [
        {
          "output_type": "stream",
          "text": [
            "False True\n"
          ],
          "name": "stdout"
        }
      ]
    }
  ]
}