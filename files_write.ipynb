{
  "nbformat": 4,
  "nbformat_minor": 0,
  "metadata": {
    "colab": {
      "name": "files_write.ipynb",
      "provenance": [],
      "collapsed_sections": [],
      "authorship_tag": "ABX9TyNrJuHqFr3JcBYPeVB5ogkf",
      "include_colab_link": true
    },
    "kernelspec": {
      "name": "python3",
      "display_name": "Python 3"
    },
    "language_info": {
      "name": "python"
    }
  },
  "cells": [
    {
      "cell_type": "markdown",
      "metadata": {
        "id": "view-in-github",
        "colab_type": "text"
      },
      "source": [
        "<a href=\"https://colab.research.google.com/github/mehmetsar/challenges/blob/main/files_write.ipynb\" target=\"_parent\"><img src=\"https://colab.research.google.com/assets/colab-badge.svg\" alt=\"Open In Colab\"/></a>"
      ]
    },
    {
      "cell_type": "code",
      "metadata": {
        "id": "UCrLhlH1tws7",
        "colab": {
          "base_uri": "https://localhost:8080/"
        },
        "outputId": "816d42ec-f6e2-476c-fa34-88c5ae18b4f7"
      },
      "source": [
        "!pip install -q streamlit"
      ],
      "execution_count": 1,
      "outputs": [
        {
          "output_type": "stream",
          "text": [
            "\u001b[K     |████████████████████████████████| 8.2MB 12.5MB/s \n",
            "\u001b[K     |████████████████████████████████| 92kB 8.4MB/s \n",
            "\u001b[K     |████████████████████████████████| 174kB 62.7MB/s \n",
            "\u001b[K     |████████████████████████████████| 112kB 66.0MB/s \n",
            "\u001b[K     |████████████████████████████████| 4.2MB 48.2MB/s \n",
            "\u001b[K     |████████████████████████████████| 81kB 8.5MB/s \n",
            "\u001b[K     |████████████████████████████████| 71kB 8.1MB/s \n",
            "\u001b[K     |████████████████████████████████| 122kB 65.2MB/s \n",
            "\u001b[?25h  Building wheel for blinker (setup.py) ... \u001b[?25l\u001b[?25hdone\n",
            "\u001b[31mERROR: google-colab 1.0.0 has requirement ipykernel~=4.10, but you'll have ipykernel 5.5.5 which is incompatible.\u001b[0m\n"
          ],
          "name": "stdout"
        }
      ]
    },
    {
      "cell_type": "code",
      "metadata": {
        "id": "tzjMuHkOry0p"
      },
      "source": [
        "%%writefile app.py\n",
        "\n",
        "import streamlit as st\n",
        "\n",
        "st.title(\"Şiiri Kıtalara dönüştürücü uygulama.\")\n",
        "path=st.file_uploader(\"Upload your txt file : \", type = [\"txt\"])\n",
        "if path:\n",
        "  with open(path, \"r\", encoding=\"utf-8\") as divider:\n",
        "      lines = divider.readlines()\n",
        "\n",
        "  with open(path, \"w\", encoding=\"utf-8\") as ff:\n",
        "\n",
        "      for i in lines:\n",
        "        if counter%=4==0:\n",
        "          ff.write(i+\"/n\")\n",
        "        else:\n",
        "          ff.write(i)  \n"
      ],
      "execution_count": null,
      "outputs": []
    }
  ]
}